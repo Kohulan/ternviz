{
 "cells": [
  {
   "cell_type": "markdown",
   "metadata": {
    "id": "YEGEu0gXoNzD"
   },
   "source": [
    "# Ternviz\n",
    "\n",
    "Make a video of a turning structure from SMILES.\n",
    "\n",
    "Checkout the Twitter bot [@ternviz](https://twitter.com/ternviz)!"
   ]
  },
  {
   "cell_type": "code",
   "execution_count": null,
   "metadata": {
    "colab": {
     "base_uri": "https://localhost:8080/"
    },
    "collapsed": true,
    "id": "BrnGvVB1lZ6Y",
    "outputId": "30d60e54-200b-4c7b-c5fa-06dbb8d5a7e1"
   },
   "outputs": [],
   "source": [
    "# @title Install Required Package\n",
    "!pip install -q git+https://github.com/whitead/ternviz.git condacolab\n",
    "import condacolab\n",
    "\n",
    "condacolab.install()\n",
    "!mamba install -q -c conda-forge --file https://raw.githubusercontent.com/whitead/ternviz/main/requirements.txt"
   ]
  },
  {
   "cell_type": "code",
   "execution_count": null,
   "metadata": {
    "id": "aw-6bqsym4hX"
   },
   "outputs": [],
   "source": [
    "import ternviz\n",
    "\n",
    "smiles1 = \"CCO\"\n",
    "smiles2 = \"\"\n",
    "names = []\n",
    "\n",
    "if smiles2:\n",
    "    smiles = [smiles1, smiles2]\n",
    "    names = []\n",
    "\n",
    "ternviz.main()"
   ]
  },
  {
   "cell_type": "code",
   "execution_count": null,
   "metadata": {
    "id": "waMLhhS6olRn"
   },
   "outputs": [],
   "source": []
  }
 ],
 "metadata": {
  "colab": {
   "collapsed_sections": [],
   "name": "ternviz.ipynb",
   "provenance": []
  },
  "kernelspec": {
   "display_name": "Python 3",
   "name": "python3"
  },
  "language_info": {
   "name": "python"
  }
 },
 "nbformat": 4,
 "nbformat_minor": 0
}
