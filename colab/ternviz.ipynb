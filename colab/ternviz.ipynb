{
 "cells": [
  {
   "cell_type": "markdown",
   "metadata": {
    "id": "YEGEu0gXoNzD"
   },
   "source": [
    "# Ternviz\n",
    "\n",
    "Make a video of a turning structure from SMILES.\n",
    "\n",
    "Checkout the Twitter bot [@ternviz](https://twitter.com/ternviz)!"
   ]
  },
  {
   "cell_type": "code",
   "execution_count": null,
   "metadata": {
    "cellView": "form",
    "id": "BrnGvVB1lZ6Y"
   },
   "outputs": [],
   "source": [
    "# @title Install Required Packages\n",
    "print(\"🐍Installing Miniconda\")\n",
    "! wget -q https://repo.anaconda.com/miniconda/Miniconda3-py37_4.8.2-Linux-x86_64.sh\n",
    "! chmod +x Miniconda3-py37_4.8.2-Linux-x86_64.sh\n",
    "! bash ./Miniconda3-py37_4.8.2-Linux-x86_64.sh -b -f -p /usr/local > /dev/null  && rm Miniconda3-py37_4.8.2-Linux-x86_64.sh\n",
    "import sys, os\n",
    "\n",
    "os.environ[\"CONDA_PREFIX\"] = \"/usr/local/\"\n",
    "sys.path.append(\"/usr/local/lib/python3.7/site-packages/\")\n",
    "print(\"📦Installing Conda Packages\")\n",
    "!conda install -c conda-forge -qy --no-deps vmd pthread-stubs open-fonts libgomp libgcc-ng > /dev/null\n",
    "print(\"🪶Installing ternviz\")\n",
    "!pip install -q git+https://github.com/whitead/ternviz.git > /dev/null\n",
    "print(\"🎉Done!\")"
   ]
  },
  {
   "cell_type": "code",
   "execution_count": null,
   "metadata": {
    "cellView": "form",
    "id": "aw-6bqsym4hX"
   },
   "outputs": [],
   "source": [
    "# @title Run Parameters\n",
    "import ternviz\n",
    "from IPython.core.display import Video, display\n",
    "import os\n",
    "\n",
    "smiles1 = \"CCO\"  # @param {type:\"string\"}\n",
    "high_quality = False  # @param {type:\"boolean\"}\n",
    "# @markdown ### Optional Parameters\n",
    "# @markdown *Enter another SMILES here to compare two molecules*\n",
    "smiles2 = \"\"  # @param {type:\"string\"}\n",
    "# @markdown *Name your molecules*\n",
    "name1 = \"\"  # @param {type:\"string\"}\n",
    "name2 = \"\"  # @param {type:\"string\"}\n",
    "names = []\n",
    "if name1:\n",
    "    names.append(name1)\n",
    "if name2:\n",
    "    names.append(name2)\n",
    "\n",
    "split = False\n",
    "\n",
    "smiles = [smiles1]\n",
    "if smiles2:\n",
    "    smiles = [smiles1, smiles2]\n",
    "    split = True\n",
    "\n",
    "if not names:\n",
    "    names = [ternviz.get_name(s) for s in smiles]\n",
    "width = 400 if split else 800\n",
    "movies = []\n",
    "for i, (n, s) in enumerate(zip(names, smiles)):\n",
    "    print(\"😁 Processing SMILES\", i + 1, \"of\", len(smiles))\n",
    "    sm = ternviz.check_smiles(s)\n",
    "    if sm:\n",
    "        raise ValueError(sm)\n",
    "    p = ternviz.gen_coords(s)\n",
    "    if not p:\n",
    "        raise ValueError(\"Failed to generate coordinates\")\n",
    "    print(\"🎨 Rendering...\", s)\n",
    "    ternviz.render(p.name, width, id=n, high_quality=high_quality)\n",
    "    print(\"🎥 Making Movie for\", s)\n",
    "    m = ternviz.movie(n, short_name=n)\n",
    "    movies.append(m)\n",
    "    p.close()\n",
    "    os.unlink(p.name)\n",
    "    display(Video(m, embed=True))\n",
    "if split:\n",
    "    out = ternviz.multiplex(movies, \"out\")\n",
    "else:\n",
    "    out = movies[0]"
   ]
  },
  {
   "cell_type": "code",
   "execution_count": null,
   "metadata": {
    "cellView": "form",
    "id": "N-EfXN3qQQu4"
   },
   "outputs": [],
   "source": [
    "# @title Download Movie\n",
    "from google.colab import files\n",
    "\n",
    "files.download(out)"
   ]
  }
 ],
 "metadata": {
  "colab": {
   "collapsed_sections": [],
   "name": "ternviz.ipynb",
   "provenance": []
  },
  "kernelspec": {
   "display_name": "Python 3",
   "name": "python3"
  },
  "language_info": {
   "name": "python"
  }
 },
 "nbformat": 4,
 "nbformat_minor": 0
}
